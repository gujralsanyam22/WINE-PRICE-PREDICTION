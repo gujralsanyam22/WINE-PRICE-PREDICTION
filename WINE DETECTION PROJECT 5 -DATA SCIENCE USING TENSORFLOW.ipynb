{
 "cells": [
  {
   "cell_type": "code",
   "execution_count": 2,
   "metadata": {},
   "outputs": [],
   "source": [
    "import os\n",
    "import math\n",
    "import string\n",
    "import re\n",
    "import numpy as np\n",
    "import pandas as pd\n",
    "import tensorflow as tf\n",
    "import matplotlib.pyplot as plt\n",
    "\n",
    "from sklearn.preprocessing import LabelEncoder\n"
   ]
  },
  {
   "cell_type": "code",
   "execution_count": 3,
   "metadata": {},
   "outputs": [],
   "source": [
    "if tf.test.is_gpu_available():\n",
    "    # GPU\n",
    "    BATCH_SIZE = 256  # Number of examples used in each iteration\n",
    "    EPOCHS = 10  # Number of passes through entire dataset\n",
    "    MAX_LEN = 170  # Max length of review (in words)\n",
    "    VOCAB_SIZE = 1000  # Size of vocabulary dictionary\n",
    "    EMBEDDING = 8  # Dimension of word embedding vector\n",
    "    \n",
    "# Hyperparams for CPU training\n",
    "else:\n",
    "    # CPU\n",
    "    BATCH_SIZE = 128\n",
    "    EPOCHS = 10\n",
    "    MAX_LEN = 170\n",
    "    VOCAB_SIZE = 1000\n",
    "    EMBEDDING = 8"
   ]
  },
  {
   "cell_type": "code",
   "execution_count": 7,
   "metadata": {},
   "outputs": [
    {
     "data": {
      "text/html": [
       "<div>\n",
       "<style scoped>\n",
       "    .dataframe tbody tr th:only-of-type {\n",
       "        vertical-align: middle;\n",
       "    }\n",
       "\n",
       "    .dataframe tbody tr th {\n",
       "        vertical-align: top;\n",
       "    }\n",
       "\n",
       "    .dataframe thead th {\n",
       "        text-align: right;\n",
       "    }\n",
       "</style>\n",
       "<table border=\"1\" class=\"dataframe\">\n",
       "  <thead>\n",
       "    <tr style=\"text-align: right;\">\n",
       "      <th></th>\n",
       "      <th>Unnamed: 0</th>\n",
       "      <th>country</th>\n",
       "      <th>description</th>\n",
       "      <th>designation</th>\n",
       "      <th>points</th>\n",
       "      <th>price</th>\n",
       "      <th>province</th>\n",
       "      <th>region_1</th>\n",
       "      <th>region_2</th>\n",
       "      <th>variety</th>\n",
       "      <th>winery</th>\n",
       "    </tr>\n",
       "  </thead>\n",
       "  <tbody>\n",
       "    <tr>\n",
       "      <th>84220</th>\n",
       "      <td>84220</td>\n",
       "      <td>Chile</td>\n",
       "      <td>The opening boasts fresh red-berry aromas and ...</td>\n",
       "      <td>Babor</td>\n",
       "      <td>84</td>\n",
       "      <td>8.0</td>\n",
       "      <td>Central Valley</td>\n",
       "      <td>NaN</td>\n",
       "      <td>NaN</td>\n",
       "      <td>Cabernet Sauvignon</td>\n",
       "      <td>Odfjell</td>\n",
       "    </tr>\n",
       "    <tr>\n",
       "      <th>8374</th>\n",
       "      <td>8374</td>\n",
       "      <td>Chile</td>\n",
       "      <td>Simple but friendly aromas of green fruits and...</td>\n",
       "      <td>Select Terroir</td>\n",
       "      <td>86</td>\n",
       "      <td>10.0</td>\n",
       "      <td>Maipo Valley</td>\n",
       "      <td>NaN</td>\n",
       "      <td>NaN</td>\n",
       "      <td>Sauvignon Blanc</td>\n",
       "      <td>Santa Ema</td>\n",
       "    </tr>\n",
       "    <tr>\n",
       "      <th>99515</th>\n",
       "      <td>99515</td>\n",
       "      <td>Italy</td>\n",
       "      <td>Opens with a pretty shade of gold that denotes...</td>\n",
       "      <td>Pinot Grigio</td>\n",
       "      <td>86</td>\n",
       "      <td>15.0</td>\n",
       "      <td>Northeastern Italy</td>\n",
       "      <td>Colli Orientali del Friuli</td>\n",
       "      <td>NaN</td>\n",
       "      <td>Pinot Grigio</td>\n",
       "      <td>Mosolo Gleni</td>\n",
       "    </tr>\n",
       "    <tr>\n",
       "      <th>56370</th>\n",
       "      <td>56370</td>\n",
       "      <td>France</td>\n",
       "      <td>89-91 Barrel sample. A smoothly ripe wine, the...</td>\n",
       "      <td>Barrel sample</td>\n",
       "      <td>90</td>\n",
       "      <td>NaN</td>\n",
       "      <td>Bordeaux</td>\n",
       "      <td>Listrac-Médoc</td>\n",
       "      <td>NaN</td>\n",
       "      <td>Bordeaux-style Red Blend</td>\n",
       "      <td>Château Fourcas Dupré</td>\n",
       "    </tr>\n",
       "    <tr>\n",
       "      <th>101076</th>\n",
       "      <td>101076</td>\n",
       "      <td>Portugal</td>\n",
       "      <td>A huge, superrich selection, this was named in...</td>\n",
       "      <td>Monte da Cal Vinha de Saturno</td>\n",
       "      <td>91</td>\n",
       "      <td>28.0</td>\n",
       "      <td>Alentejano</td>\n",
       "      <td>NaN</td>\n",
       "      <td>NaN</td>\n",
       "      <td>Portuguese Red</td>\n",
       "      <td>Dão Sul</td>\n",
       "    </tr>\n",
       "  </tbody>\n",
       "</table>\n",
       "</div>"
      ],
      "text/plain": [
       "        Unnamed: 0   country  \\\n",
       "84220        84220     Chile   \n",
       "8374          8374     Chile   \n",
       "99515        99515     Italy   \n",
       "56370        56370    France   \n",
       "101076      101076  Portugal   \n",
       "\n",
       "                                              description  \\\n",
       "84220   The opening boasts fresh red-berry aromas and ...   \n",
       "8374    Simple but friendly aromas of green fruits and...   \n",
       "99515   Opens with a pretty shade of gold that denotes...   \n",
       "56370   89-91 Barrel sample. A smoothly ripe wine, the...   \n",
       "101076  A huge, superrich selection, this was named in...   \n",
       "\n",
       "                          designation  points  price            province  \\\n",
       "84220                           Babor      84    8.0      Central Valley   \n",
       "8374                   Select Terroir      86   10.0        Maipo Valley   \n",
       "99515                    Pinot Grigio      86   15.0  Northeastern Italy   \n",
       "56370                   Barrel sample      90    NaN            Bordeaux   \n",
       "101076  Monte da Cal Vinha de Saturno      91   28.0          Alentejano   \n",
       "\n",
       "                          region_1 region_2                   variety  \\\n",
       "84220                          NaN      NaN        Cabernet Sauvignon   \n",
       "8374                           NaN      NaN           Sauvignon Blanc   \n",
       "99515   Colli Orientali del Friuli      NaN              Pinot Grigio   \n",
       "56370                Listrac-Médoc      NaN  Bordeaux-style Red Blend   \n",
       "101076                         NaN      NaN            Portuguese Red   \n",
       "\n",
       "                       winery  \n",
       "84220                 Odfjell  \n",
       "8374                Santa Ema  \n",
       "99515            Mosolo Gleni  \n",
       "56370   Château Fourcas Dupré  \n",
       "101076                Dão Sul  "
      ]
     },
     "execution_count": 7,
     "metadata": {},
     "output_type": "execute_result"
    }
   ],
   "source": [
    "\n",
    "\n",
    "# Convert the data to a Pandas data frame\n",
    "data = pd.read_csv('winemag-data_first150K.csv')\n",
    "\n",
    "# Shuffle the data\n",
    "data = data.sample(frac=1)\n",
    "\n",
    "# Print the first 5 rows\n",
    "data.head()"
   ]
  },
  {
   "cell_type": "code",
   "execution_count": 8,
   "metadata": {},
   "outputs": [
    {
     "name": "stdout",
     "output_type": "stream",
     "text": [
      "Train size: 95647\n",
      "Test size: 23912\n"
     ]
    }
   ],
   "source": [
    "data = data[pd.notnull(data['country'])]\n",
    "data = data[pd.notnull(data['price'])]\n",
    "data = data.drop(data.columns[0], axis=1) \n",
    "\n",
    "variety_threshold = 500 # Anything that occurs less than this will be removed.\n",
    "value_counts = data['variety'].value_counts()\n",
    "to_remove = value_counts[value_counts <= variety_threshold].index\n",
    "data.replace(to_remove, np.nan, inplace=True)\n",
    "data = data[pd.notnull(data['variety'])]\n",
    "\n",
    "# Split data into train and test\n",
    "train_size = int(len(data) * .8)\n",
    "print (\"Train size: %d\" % train_size)\n",
    "print (\"Test size: %d\" % (len(data) - train_size))"
   ]
  },
  {
   "cell_type": "code",
   "execution_count": 9,
   "metadata": {},
   "outputs": [
    {
     "data": {
      "image/png": "[encoded data removed]",
      "text/plain": [
       "<Figure size 432x288 with 1 Axes>"
      ]
     },
     "metadata": {
      "needs_background": "light"
     },
     "output_type": "display_data"
    }
   ],
   "source": [
    "re_tok = re.compile(f'([{string.punctuation}“”¨«»®´·º½¾¿¡§£₤‘’])')\n",
    "def tokenize(s): return re_tok.sub(r' \\1 ', s).split()\n",
    "\n",
    "# Plot sentence by length\n",
    "plt.hist([len(tokenize(s)) for s in data['description'].values], bins=50)\n",
    "plt.title('Token per sentence')\n",
    "plt.xlabel('Len (number of token)')\n",
    "plt.ylabel('# samples')\n",
    "plt.show()"
   ]
  },
  {
   "cell_type": "code",
   "execution_count": 10,
   "metadata": {},
   "outputs": [],
   "source": [
    "description_train = data['description'][:train_size]\n",
    "variety_train = data['variety'][:train_size]\n",
    "\n",
    "# Train labels\n",
    "labels_train = data['price'][:train_size]\n",
    "\n",
    "# Test features\n",
    "description_test = data['description'][train_size:]\n",
    "variety_test = data['variety'][train_size:]\n",
    "\n",
    "# Test labels\n",
    "labels_test = data['price'][train_size:]"
   ]
  },
  {
   "cell_type": "code",
   "execution_count": 11,
   "metadata": {},
   "outputs": [
    {
     "name": "stdout",
     "output_type": "stream",
     "text": [
      "First Original Sample: The opening boasts fresh red-berry aromas and prickle. Feels racy and energetic, with zesty red-cherry and red-plum flavors. Edgy, jumpy and mostly harmonious, but more tangy than deep, rich or complex.\n",
      "\n",
      "First Sample after BoW (sparse representation truncated at the first 100 vocabulary terms): [0. 1. 1. 0. 0. 1. 0. 0. 1. 0. 0. 0. 0. 0. 1. 0. 0. 0. 0. 1. 1. 0. 0. 0.\n",
      " 0. 0. 0. 0. 0. 0. 0. 0. 0. 0. 0. 0. 0. 1. 0. 0. 0. 1. 0. 0. 1. 0. 0. 1.\n",
      " 0. 0. 0. 0. 0. 0. 0. 0. 0. 1. 1. 0. 0. 0. 0. 0. 1. 0. 0. 0. 0. 0. 0. 0.\n",
      " 0. 0. 0. 0. 0. 0. 0. 0. 0. 0. 0. 0. 0. 0. 0. 0. 0. 0. 0. 0. 0. 0. 0. 0.\n",
      " 0. 0. 0. 0.]\n"
     ]
    }
   ],
   "source": [
    "print(\"First Original Sample:\", data['description'].values[0])\n",
    "# Create a tokenizer to preprocess our text descriptions\n",
    "tokenizer = keras.preprocessing.text.Tokenizer(num_words=VOCAB_SIZE, char_level=False)\n",
    "tokenizer.fit_on_texts(description_train) # only fit on train\n",
    "\n",
    "# Wide feature 1: sparse bag of words (bow) vocab_size vector \n",
    "description_bow_train = tokenizer.texts_to_matrix(description_train)\n",
    "description_bow_test = tokenizer.texts_to_matrix(description_test)\n",
    "print(\"\\nFirst Sample after BoW (sparse representation truncated at the first 100 vocabulary terms):\", description_bow_train[0][:100])\n",
    "\n",
    "# Wide feature 2: one-hot vector of variety categories\n",
    "# Use sklearn utility to convert label strings to numbered index\n",
    "encoder = LabelEncoder()\n",
    "encoder.fit(variety_train)\n",
    "variety_train = encoder.transform(variety_train)\n",
    "variety_test = encoder.transform(variety_test)\n",
    "num_classes = np.max(variety_train) + 1\n",
    "\n",
    "# Convert labels to one hot\n",
    "variety_train = keras.utils.to_categorical(variety_train, num_classes)\n",
    "variety_test = keras.utils.to_categorical(variety_test, num_classes)"
   ]
  },
  {
   "cell_type": "code",
   "execution_count": 12,
   "metadata": {},
   "outputs": [
    {
     "name": "stdout",
     "output_type": "stream",
     "text": [
      "Model: \"model\"\n",
      "__________________________________________________________________________________________________\n",
      "Layer (type)                    Output Shape         Param #     Connected to                     \n",
      "==================================================================================================\n",
      "input_1 (InputLayer)            [(None, 1000)]       0                                            \n",
      "__________________________________________________________________________________________________\n",
      "input_2 (InputLayer)            [(None, 40)]         0                                            \n",
      "__________________________________________________________________________________________________\n",
      "concatenate (Concatenate)       (None, 1040)         0           input_1[0][0]                    \n",
      "                                                                 input_2[0][0]                    \n",
      "__________________________________________________________________________________________________\n",
      "dense (Dense)                   (None, 256)          266496      concatenate[0][0]                \n",
      "__________________________________________________________________________________________________\n",
      "dense_1 (Dense)                 (None, 1)            257         dense[0][0]                      \n",
      "==================================================================================================\n",
      "Total params: 266,753\n",
      "Trainable params: 266,753\n",
      "Non-trainable params: 0\n",
      "__________________________________________________________________________________________________\n",
      "None\n"
     ]
    }
   ],
   "source": [
    "bow_inputs = layers.Input(shape=(VOCAB_SIZE,))\n",
    "variety_inputs = layers.Input(shape=(num_classes,))\n",
    "merged_layer = layers.concatenate([bow_inputs, variety_inputs])\n",
    "merged_layer = layers.Dense(256, activation='relu')(merged_layer)\n",
    "predictions = layers.Dense(1)(merged_layer)\n",
    "wide_model = keras.Model(inputs=[bow_inputs, variety_inputs], outputs=predictions)\n",
    "\n",
    "wide_model.compile(loss='mse', optimizer='adam', metrics=['accuracy'])\n",
    "print(wide_model.summary())"
   ]
  },
  {
   "cell_type": "code",
   "execution_count": 14,
   "metadata": {},
   "outputs": [
    {
     "name": "stdout",
     "output_type": "stream",
     "text": [
      "First Original Sample: The opening boasts fresh red-berry aromas and prickle. Feels racy and energetic, with zesty red-cherry and red-plum flavors. Edgy, jumpy and mostly harmonious, but more tangy than deep, rich or complex.\n",
      "\n",
      "First Sample after Preprocessing for Embedding: [  2 990 568  47  41  44  20   1 199 529   1   5 353  41  19   1  41  58\n",
      "   8 996   1 782  14  57 336 122 251  37  64 126   0   0   0   0   0   0\n",
      "   0   0   0   0   0   0   0   0   0   0   0   0   0   0   0   0   0   0\n",
      "   0   0   0   0   0   0   0   0   0   0   0   0   0   0   0   0   0   0\n",
      "   0   0   0   0   0   0   0   0   0   0   0   0   0   0   0   0   0   0\n",
      "   0   0   0   0   0   0   0   0   0   0   0   0   0   0   0   0   0   0\n",
      "   0   0   0   0   0   0   0   0   0   0   0   0   0   0   0   0   0   0\n",
      "   0   0   0   0   0   0   0   0   0   0   0   0   0   0   0   0   0   0\n",
      "   0   0   0   0   0   0   0   0   0   0   0   0   0   0   0   0   0   0\n",
      "   0   0   0   0   0   0   0   0]\n"
     ]
    }
   ],
   "source": [
    "print(\"First Original Sample:\", data['description'].values[0])\n",
    "\n",
    "# Deep model feature: word embeddings of wine descriptions\n",
    "train_embed = tokenizer.texts_to_sequences(description_train)\n",
    "test_embed = tokenizer.texts_to_sequences(description_test)\n",
    "\n",
    "train_embed = keras.preprocessing.sequence.pad_sequences(\n",
    "    train_embed, maxlen=MAX_LEN, padding=\"post\")\n",
    "test_embed = keras.preprocessing.sequence.pad_sequences(\n",
    "    test_embed, maxlen=MAX_LEN, padding=\"post\")\n",
    "\n",
    "print(\"\\nFirst Sample after Preprocessing for Embedding:\", train_embed[0])"
   ]
  },
  {
   "cell_type": "code",
   "execution_count": 15,
   "metadata": {},
   "outputs": [
    {
     "name": "stdout",
     "output_type": "stream",
     "text": [
      "Model: \"model_1\"\n",
      "_________________________________________________________________\n",
      "Layer (type)                 Output Shape              Param #   \n",
      "=================================================================\n",
      "input_3 (InputLayer)         [(None, 170)]             0         \n",
      "_________________________________________________________________\n",
      "embedding (Embedding)        (None, 170, 8)            8000      \n",
      "_________________________________________________________________\n",
      "flatten (Flatten)            (None, 1360)              0         \n",
      "_________________________________________________________________\n",
      "dense_2 (Dense)              (None, 1)                 1361      \n",
      "=================================================================\n",
      "Total params: 9,361\n",
      "Trainable params: 9,361\n",
      "Non-trainable params: 0\n",
      "_________________________________________________________________\n",
      "None\n"
     ]
    }
   ],
   "source": [
    "deep_inputs = layers.Input(shape=(MAX_LEN,))\n",
    "embedding = layers.Embedding(VOCAB_SIZE, EMBEDDING, input_length=MAX_LEN)(deep_inputs)\n",
    "embedding = layers.Flatten()(embedding)\n",
    "embed_out = layers.Dense(1)(embedding)\n",
    "deep_model = keras.Model(inputs=deep_inputs, outputs=embed_out)\n",
    "print(deep_model.summary())\n",
    "\n",
    "deep_model.compile(loss='mse',\n",
    "                       optimizer='adam',\n",
    "                       metrics=['accuracy'])"
   ]
  },
  {
   "cell_type": "code",
   "execution_count": 16,
   "metadata": {},
   "outputs": [
    {
     "name": "stdout",
     "output_type": "stream",
     "text": [
      "Model: \"model_2\"\n",
      "__________________________________________________________________________________________________\n",
      "Layer (type)                    Output Shape         Param #     Connected to                     \n",
      "==================================================================================================\n",
      "input_1 (InputLayer)            [(None, 1000)]       0                                            \n",
      "__________________________________________________________________________________________________\n",
      "input_2 (InputLayer)            [(None, 40)]         0                                            \n",
      "__________________________________________________________________________________________________\n",
      "input_3 (InputLayer)            [(None, 170)]        0                                            \n",
      "__________________________________________________________________________________________________\n",
      "concatenate (Concatenate)       (None, 1040)         0           input_1[0][0]                    \n",
      "                                                                 input_2[0][0]                    \n",
      "__________________________________________________________________________________________________\n",
      "embedding (Embedding)           (None, 170, 8)       8000        input_3[0][0]                    \n",
      "__________________________________________________________________________________________________\n",
      "dense (Dense)                   (None, 256)          266496      concatenate[0][0]                \n",
      "__________________________________________________________________________________________________\n",
      "flatten (Flatten)               (None, 1360)         0           embedding[0][0]                  \n",
      "__________________________________________________________________________________________________\n",
      "dense_1 (Dense)                 (None, 1)            257         dense[0][0]                      \n",
      "__________________________________________________________________________________________________\n",
      "dense_2 (Dense)                 (None, 1)            1361        flatten[0][0]                    \n",
      "__________________________________________________________________________________________________\n",
      "concatenate_1 (Concatenate)     (None, 2)            0           dense_1[0][0]                    \n",
      "                                                                 dense_2[0][0]                    \n",
      "__________________________________________________________________________________________________\n",
      "dense_3 (Dense)                 (None, 1)            3           concatenate_1[0][0]              \n",
      "==================================================================================================\n",
      "Total params: 276,117\n",
      "Trainable params: 276,117\n",
      "Non-trainable params: 0\n",
      "__________________________________________________________________________________________________\n",
      "None\n"
     ]
    }
   ],
   "source": [
    "merged_out = layers.concatenate([wide_model.output, deep_model.output])\n",
    "merged_out = layers.Dense(1)(merged_out)\n",
    "combined_model = keras.Model(wide_model.input + [deep_model.input], merged_out)\n",
    "print(combined_model.summary())\n",
    "\n",
    "combined_model.compile(loss='mse',\n",
    "                       optimizer='adam',\n",
    "                       metrics=['accuracy'])"
   ]
  },
  {
   "cell_type": "code",
   "execution_count": 17,
   "metadata": {},
   "outputs": [
    {
     "name": "stdout",
     "output_type": "stream",
     "text": [
      "Epoch 1/10\n",
      "95647/95647 - 13s - loss: 1306.4074 - accuracy: 0.0000e+00\n",
      "Epoch 2/10\n",
      "95647/95647 - 10s - loss: 1068.1601 - accuracy: 0.0000e+00\n",
      "Epoch 3/10\n",
      "95647/95647 - 10s - loss: 1035.3221 - accuracy: 0.0000e+00\n",
      "Epoch 4/10\n",
      "95647/95647 - 9s - loss: 1000.6569 - accuracy: 0.0000e+00\n",
      "Epoch 5/10\n",
      "95647/95647 - 10s - loss: 958.8464 - accuracy: 0.0000e+00\n",
      "Epoch 6/10\n",
      "95647/95647 - 10s - loss: 917.2827 - accuracy: 0.0000e+00\n",
      "Epoch 7/10\n",
      "95647/95647 - 9s - loss: 873.8539 - accuracy: 0.0000e+00\n",
      "Epoch 8/10\n",
      "95647/95647 - 10s - loss: 831.3093 - accuracy: 0.0000e+00\n",
      "Epoch 9/10\n",
      "95647/95647 - 9s - loss: 788.3262 - accuracy: 0.0000e+00\n",
      "Epoch 10/10\n",
      "95647/95647 - 9s - loss: 745.5497 - accuracy: 0.0000e+00\n"
     ]
    },
    {
     "data": {
      "text/plain": [
       "<tensorflow.python.keras.callbacks.History at 0x1db0c88fb08>"
      ]
     },
     "execution_count": 17,
     "metadata": {},
     "output_type": "execute_result"
    }
   ],
   "source": [
    "combined_model.fit([description_bow_train, variety_train] + [train_embed], labels_train, epochs=EPOCHS, batch_size=BATCH_SIZE, verbose=2)"
   ]
  },
  {
   "cell_type": "code",
   "execution_count": 18,
   "metadata": {},
   "outputs": [
    {
     "name": "stdout",
     "output_type": "stream",
     "text": [
      "23912/23912 [==============================] - 1s 33us/sample - loss: 794.6553 - accuracy: 0.0000e+00\n"
     ]
    },
    {
     "data": {
      "text/plain": [
       "[794.655252711276, 0.0]"
      ]
     },
     "execution_count": 18,
     "metadata": {},
     "output_type": "execute_result"
    }
   ],
   "source": [
    "combined_model.evaluate([description_bow_test, variety_test] + [test_embed], labels_test, batch_size=BATCH_SIZE)"
   ]
  },
  {
   "cell_type": "code",
   "execution_count": 19,
   "metadata": {},
   "outputs": [
    {
     "data": {
      "application/vnd.jupyter.widget-view+json": {
       "model_id": "c5c70ddae7fd498abcc7cde07c8a3056",
       "version_major": 2,
       "version_minor": 0
      },
      "text/plain": [
       "interactive(children=(IntSlider(value=1, description='# of test to evaluate/show', max=20, min=1), Output()), …"
      ]
     },
     "metadata": {},
     "output_type": "display_data"
    }
   ],
   "source": [
    "from ipywidgets import interact\n",
    "from ipywidgets import widgets\n",
    "\n",
    "def evaluate(num_predictions):\n",
    "    # Generate predictions\n",
    "    predictions = combined_model.predict([description_bow_test, variety_test] + [test_embed])\n",
    "\n",
    "    # Compare predictions with actual values for the first few items in our test dataset\n",
    "    diff = 0\n",
    "    for i in range(num_predictions):\n",
    "        val = predictions[i]\n",
    "        print('[{}] - {}'.format(i+1, description_test.iloc[i]))\n",
    "        print('Predicted: ', val[0], 'Actual: ', labels_test.iloc[i], '\\n')\n",
    "        diff += abs(val[0] - labels_test.iloc[i])\n",
    "\n",
    "    # Compare the average difference between actual price and the model's predicted price\n",
    "    print('Average prediction difference: ', diff / num_predictions)\n",
    "\n",
    "interact(evaluate, num_predictions=widgets.IntSlider(value=1, min=1, max=20, description='# of test to evaluate/show'));"
   ]
  },
  {
   "cell_type": "code",
   "execution_count": 21,
   "metadata": {},
   "outputs": [],
   "source": [
    "predictions = combined_model.predict([description_bow_test, variety_test] + [test_embed])"
   ]
  },
  {
   "cell_type": "code",
   "execution_count": 23,
   "metadata": {},
   "outputs": [
    {
     "name": "stdout",
     "output_type": "stream",
     "text": [
      "Plum, black cherry and pepper gives this hearty red a lush start. Round, full flavors of black fruit and spice on the palate are balanced by moderate tannins and good acidity. Pair with game, hearty stews,and grilled steaks.\n",
      "Predicted:  13.313821 Actual:  14.0 \n",
      "\n",
      "Lighter than Malibu Oak's Cabernet Sauvignon, this Cab Franc shows the variety's characteristic herby notes and is otherwise easy and light, with enough depth to pair well with a range of meats.\n",
      "Predicted:  20.277962 Actual:  27.0 \n",
      "\n",
      "Kind of heavy and dull, with earth and mineral flavors breaking into citrus and green apples. Finishes bone dry and tart in acids. Call it Chablisian.\n",
      "Predicted:  28.203745 Actual:  32.0 \n",
      "\n",
      "Practically overflows with lush, ripe fruit—mainly cassis—but that richness is kept in classic balance by the dusty tannins on the finish. This is fuller and creamier than the also impressive St. Helena bottling. 125 cases produced. Drink now–2015.\n",
      "Predicted:  54.05098 Actual:  100.0 \n",
      "\n",
      "Herbal peppercorn gives this wine an edge on the nose that speaks to grapes that were picked not overripe. The palate offers thick, smoky oak and perceptible sandalwood and cedar. On the finish is more of that herbal greenness. The wine is blended with tiny amounts of Malbec and Petit Verdot.\n",
      "Predicted:  42.84761 Actual:  25.0 \n",
      "\n",
      "Smoky and dry, with aromas of tire rubber and mildly herbal, leafy red fruits. The palate has a dry, rugged, scratchy feel while the flavors veer toward baked raspberry, earth notes and coffee. Finishes nicely, with berry fruit at first and then herbal, oaky afternotes.\n",
      "Predicted:  21.300444 Actual:  19.0 \n",
      "\n",
      "Dry and steely in focus, yet ebulliently fruity and floral on the nose and palate, there's so much dimension to this fantastic Riesling. Intensely ripe stonefruit flavors leave an irresistible glycerine slick on the palate, but it finishes clean with a shower of crushed-stone minerality and steel.\n",
      "Predicted:  25.138186 Actual:  66.0 \n",
      "\n",
      "Fairly aggressive on the nose, with pungently grassy aromas that lead into a fresh, citrusy palate. Light in body, there's a dusty chalkiness to the mouthfeel and a tart, zesty finish.\n",
      "Predicted:  21.981085 Actual:  19.0 \n",
      "\n",
      "Planeta breaks new ground with this Sicilian rosé made from Syrah. Clean packaging and a screw cap bottle set the stage for a modern, pristine and impeccably made wine that is fresh, zesty and very easy to drink.\n",
      "Predicted:  13.514575 Actual:  16.0 \n",
      "\n",
      "Flavors of cracker and toast accompany light raspberry fruit. The wine is a bit unbalanced, and it falls a little flat on the finish.\n",
      "Predicted:  17.184053 Actual:  18.0 \n",
      "\n",
      "Fresh and full of lime on the nose, and overall this is simple, smooth and gives you little reason to worry or fuss. The palate is smooth, creamy and a little low on acids, thus the lemon-lime and melon flavors have a fullness that's sweet and good.\n",
      "Predicted:  10.9250345 Actual:  10.0 \n",
      "\n",
      "Thin and earthy, this is Pinot Noir at its most herbal, with no fruit in sight.\n",
      "Predicted:  24.437384 Actual:  11.0 \n",
      "\n",
      "A pure, lively scent of fresh apricots introduces this crisply defined Pinot Gris. The rich, full midpalate brings in further fruit notes of apple and pear, with a vivid and bracing acid foundation. Long and refreshing.\n",
      "Predicted:  22.958874 Actual:  12.0 \n",
      "\n",
      "Aromas of high-toned cocoa, vanilla, coconut, pencil lead and baking spices lead to plentiful black fruit flavors, with a lick of grainy tannins backing them up. The barrel notes get out front at times but it still provides a lot of quality and value.\n",
      "Predicted:  21.367273 Actual:  18.0 \n",
      "\n",
      "Ballentine consistently makes one of the best Chenins in California, and while this 2009 seems rushed to market, it's a good alternative to Sauvignon Blanc or Pinot Grigio. Shows bright, zesty acidity framing citrus, green bean and wildflower flavors, and the finish is totally dry.\n",
      "Predicted:  23.255705 Actual:  15.0 \n",
      "\n",
      "There's a lot of oak on this Chard, sourced from multiple vineyards, and the barrel influences currently dominate, with the vanilla, butterscotch and caramel flavors many people confuse with the taste of Chardonnay itself. In this case, the underlying pineapple, pear and green apple fruit is ample enough to support all that weight.\n",
      "Predicted:  32.613075 Actual:  34.0 \n",
      "\n",
      "Bellenda is an innovative and hardworking winery that is not afraid to go against the grain. You can taste that this Prosecco is different that the rest: it has more warm, toasted, nutty aromas but it also suffers from a slightly pungent matchstick-like aroma that disturbs an otherwise pretty picture.\n",
      "Predicted:  14.669147 Actual:  19.0 \n",
      "\n",
      "Ripe orange and papaya, spice, graham cracker and smoke are a few of the adjectives tasters used to describe the nose of this delightful wine. Though rich and open on the palate, it never gets loose or sloppy. A great chalk element and spice accents nicely offset the rich fruit foundation. Buttered toast and nutty, leesy notes mingle with pineapple on the long, finely balanced back end.\n",
      "Predicted:  53.107483 Actual:  45.0 \n",
      "\n",
      "From organic grapes, this fresh, slightly sweet Chenin Blanc marries lemongrass, pear and citrus skin flavors with a hint of butterscotch. Very nice through the midpalate, then a quick fade.\n",
      "Predicted:  13.605986 Actual:  16.0 \n",
      "\n",
      "A rock-solid Syrah with mild touches of dry leaves, herbs and pepper accenting bold red-berry flavors. It's juicy and forward, with big tannins and ample oak bringing it to a loud crescendo. Strong-boned and ripe, this will go with almost any kind of red-friendly food—from pizza and burgers to steak and lasagna.\n",
      "Predicted:  9.671405 Actual:  15.0 \n",
      "\n",
      "This is a full-throttle style of Merlot, jammy to the point of pruneyness, the flavors broad and loaded with ripe cherries, prunes, smoke, spice, licorice and cedar. Big as the fruit flavors are, the wine is proportionate, the oak applied lightly, the alcohol in balance, and the acids crisp.\n",
      "Predicted:  31.601454 Actual:  27.0 \n",
      "\n",
      "Bright fruit is allied to a more mineral structure to give a wine that shows the freshness of the vintage plus a more long-term view. It is cool with red fruits and some firm tannins that act as a background. Drink from 2017.\n",
      "Predicted:  91.23633 Actual:  20.0 \n",
      "\n",
      "A very soft, creamy wine that seems to miss the fruit flavors, but still delivers an attractive if somewhat unfocused taste. Drink now.\n",
      "Predicted:  75.14229 Actual:  135.0 \n",
      "\n",
      "Light bodied, tart and elegant, this is fine to drink now with tuna or steak tartare. It's bone dry, sleek and brisk in acidity, with Dr. Pepper and red licorice flavors leading to a complex, spicy finish.\n",
      "Predicted:  28.25332 Actual:  40.0 \n",
      "\n",
      "What a spectacular effort. Dense and precise, it explodes from the glass with pure varietal scents and crisp, layered flavors. The mix of red fruits seamlessly weaves into barrel flavors of coffee, toast, caramel and buttered nuts, then adds licorice and spice to the long, clean,  lifted finish. A tour de force.\n",
      "Predicted:  37.017914 Actual:  40.0 \n",
      "\n",
      "Blue-flower and red-berry aromas lead the way along with a whiff of eucalyptus. The firm palate offers hints of star anise, espresso and a green note of powdered sage that back up unripe red cherry. It closes on a coffee note.\n",
      "Predicted:  24.034307 Actual:  29.0 \n",
      "\n",
      "Everything is clean and properly varietal in this well-made wine, which is dry, creamy and a little bit oaky. Could use greater fruity concentration, though.\n",
      "Predicted:  22.81176 Actual:  15.0 \n",
      "\n",
      "Slightly grassy, gooseberry notes bring a hint of herbaceousness to this medium-bodied Sauvignon Blanc, but the core is based around lively melon and grapefruit flavors. Plump in the mouth, yet it finishes crisp and clean; more vibrant than Brancott's Reserve bottling, making it go down that much easier. Imported by Pernod Ricard, USA.\n",
      "Predicted:  22.193293 Actual:  23.0 \n",
      "\n",
      "The Caterina Zardini Valpolicella shows a modern touch with richly textured tannins and loads of bright fruit intensity. Pair this soft, dense wine with steak and pepper sauce.\n",
      "Predicted:  29.667463 Actual:  30.0 \n",
      "\n",
      "Earthy rose, plum and rhubarb mark the entry of this soft, seamlessly textured reserve wine. Medium-bodied, it skews toward savory characteristics, most notably black tea.\n",
      "Predicted:  30.51499 Actual:  77.0 \n",
      "\n",
      "This shows flavors of honey, tropical fruit, vanilla and smoky oak that are wrapped into a creamy texture. It will satisfy your basic Chardonnay needs.\n",
      "Predicted:  22.425303 Actual:  30.0 \n",
      "\n",
      "The Ovide blend stands out for its round, sweet cherry fruit, enhanced with the earthy, composty richness of biodynamically farmed wines. This new vintage has more power – more oomph – than the 2005, and should develop well over the next decade or so.\n",
      "Predicted:  51.321053 Actual:  60.0 \n",
      "\n",
      "The Argentine Malbec phenomenon seems to be why Stonehedge decided to make one, and it's pretty darned good. Dry, full-bodied and appealing, it offers a burst of licorice, cherry, cola and chocolate macaroon flavors, in a soft, gentle texture.\n",
      "Predicted:  17.175716 Actual:  25.0 \n",
      "\n",
      "With 20% barrel fermentation, this wine is surprisingly rich and spicy for a low-end Chard. The aromas and flavors bring to mind pears and golden-delicious apples, before turning tart on the finish.\n",
      "Predicted:  20.87995 Actual:  9.0 \n",
      "\n",
      "The Grand Estates Cabernet is a real strength in the lineup, which falls between the Two Vines and H3 bottlings in terms of affordability. This is loaded with vanilla as well as a big whiff of clove. The cassis flavor is substantial, and the wine retains an authoritative firmness because of its well-hewn tannins.\n",
      "Predicted:  36.591534 Actual:  12.0 \n",
      "\n",
      "Neutral on the nose except for a spot of peach and citrus. The palate is soft and chunky, with generic citrus flavors that suggest passion fruit and grapefruit. Turns a little mealy on the finish, so drink ASAP.\n",
      "Predicted:  19.491379 Actual:  10.0 \n",
      "\n",
      "This 80-20 blend of Cabernet Sauvignon and Cabernet Franc shows a bright cherry aroma, with spice, leather and tar notes in the background. It shows a soft, plush feel, with good balance.\n",
      "Predicted:  33.53637 Actual:  35.0 \n",
      "\n",
      "Perfumed white flower aromas lead into a wine that is dense and ripe. As the palate opens up, white and yellow fruits, cinnamon and buttered toast all work their ways into a wine that is almost a meal in itself. Still young, of course, already fresh, it will surely deepen and broaden as it ages. Screwcap.\n",
      "Predicted:  50.338776 Actual:  87.0 \n",
      "\n",
      "The underlying wine is very good, showing brisk acidity, a cool-climate minerality and long hangtime, ripe flavors of pineapples, crisp green apples, mangoes and limes. Yet the oak is heavy-handed, overwhelming the fruit with caramel, and making the finish too sweet.\n",
      "Predicted:  33.17828 Actual:  48.0 \n",
      "\n",
      "How tasty this fresh wine is. It's all about cherries and raspberries, with overtones of chocolate, vanilla, sweet licorice and pepper. Yet the wine is thoroughly dry, and balanced with rich acidity. It's not only delicious, it's complex. Contains a little Malbec, which brings body.\n",
      "Predicted:  42.008812 Actual:  16.0 \n",
      "\n"
     ]
    }
   ],
   "source": [
    "num_prediction=40\n",
    "diff = 0\n",
    "\n",
    "for i in range(num_predictions):\n",
    "    val = predictions[i]\n",
    "    print(description_test.iloc[i])\n",
    "    print('Predicted: ', val[0], 'Actual: ', labels_test.iloc[i], '\\n')\n",
    "    diff += abs(val[0] - labels_test.iloc[i])"
   ]
  },
  {
   "cell_type": "markdown",
   "metadata": {},
   "source": [
    "# PREDICTIONS"
   ]
  },
  {
   "cell_type": "code",
   "execution_count": 25,
   "metadata": {},
   "outputs": [],
   "source": [
    "from __future__ import absolute_import\n",
    "from __future__ import division\n",
    "from __future__ import print_function\n",
    "import pickle"
   ]
  },
  {
   "cell_type": "code",
   "execution_count": 28,
   "metadata": {},
   "outputs": [],
   "source": [
    "test_descriptions = [\n",
    "    'From 18-year-old vines, this supple well-balanced effort blends flavors of mocha, cherry, vanilla and breakfast tea. Superbly integrated and delicious even at this early stage, this wine seems destined for a long and savory cellar life. Drink now through 2028.',\n",
    "    'The Quarts de Chaume, the four fingers of land that rise above the Layon Valley, are one of the pinnacles of sweet wines in the Loire. Showing botrytis and layers of dryness over the honey and peach jelly flavors, but also has great freshness. The aftertaste just lasts.',\n",
    "    'Nicely oaked blackberry, licorice, vanilla and charred aromas are smooth and sultry. This is an outstanding wine from an excellent year. Forward barrel-spice and mocha flavors adorn core blackberry and raspberry fruit, while this runs long and tastes vaguely chocolaty on the velvety finish. Enjoy this top-notch Tempranillo through 2030.',\n",
    "    'Bright, light oak shadings dress up this medium-bodied wine, complementing the red cherry and strawberry flavors. Its fresh, fruity and not very tannic—easy to drink and enjoy.',\n",
    "    'This wine features black cherry, blackberry, blueberry with aromas of black licorice and earth. Ending with a creamy vanilla finish.'\n",
    "]\n",
    "\n",
    "# Enter the corresponding varieties here\n",
    "test_varieties = [\n",
    "    'Pinot Noir',\n",
    "    'Chenin Blanc',\n",
    "    'Tempranillo',\n",
    "    'Sauvignon Blanc',\n",
    "    'Syrah'\n",
    "]\n",
    "\n",
    "# Enter the corresponding prices here\n",
    "labels = [\n",
    "    48,\n",
    "    152,\n",
    "    80,\n",
    "    10,\n",
    "    23\n",
    "]"
   ]
  },
  {
   "cell_type": "code",
   "execution_count": 29,
   "metadata": {},
   "outputs": [
    {
     "name": "stdout",
     "output_type": "stream",
     "text": [
      "Sample vocab\n",
      " {'and': 1, 'the': 2, 'a': 3, 'of': 4, 'with': 5, 'this': 6, 'is': 7, 'flavors': 8, 'wine': 9, 'in': 10, 'to': 11, 'it': 12, 'fruit': 13, 'but': 14, 'on': 15, 'that': 16, \"it's\": 17, 'finish': 18, 'cherry': 19, 'aromas': 20} \n",
      "\n",
      "Variety encoder\n",
      " ['Albariño' 'Barbera' 'Bordeaux-style Red Blend'\n",
      " 'Bordeaux-style White Blend' 'Cabernet Franc' 'Cabernet Sauvignon'\n",
      " 'Carmenère' 'Champagne Blend' 'Chardonnay' 'Chenin Blanc'\n",
      " 'Corvina, Rondinella, Molinara' 'Gewürztraminer' 'Grenache'\n",
      " 'Grüner Veltliner' 'Malbec' 'Merlot' 'Nebbiolo' 'Petite Sirah'\n",
      " 'Pinot Grigio' 'Pinot Gris' 'Pinot Noir' 'Port' 'Portuguese Red'\n",
      " 'Portuguese White' 'Prosecco' 'Red Blend' 'Rhône-style Red Blend'\n",
      " 'Riesling' 'Rosé' 'Sangiovese' 'Sangiovese Grosso' 'Sauvignon Blanc'\n",
      " 'Shiraz' 'Sparkling Blend' 'Syrah' 'Tempranillo' 'Tempranillo Blend'\n",
      " 'Viognier' 'White Blend' 'Zinfandel'] \n",
      "\n"
     ]
    }
   ],
   "source": [
    "vocab_lookup = tokenizer.word_index\n",
    "first_20_words = {k: vocab_lookup[k] for k in list(vocab_lookup)[:20]}\n",
    "print(\"Sample vocab\\n\", first_20_words, \"\\n\")\n",
    "print(\"Variety encoder\\n\", encoder.classes_, \"\\n\")"
   ]
  },
  {
   "cell_type": "code",
   "execution_count": 30,
   "metadata": {},
   "outputs": [
    {
     "name": "stdout",
     "output_type": "stream",
     "text": [
      "Sample vocab\n",
      " {'and': 1, 'the': 2, 'a': 3, 'of': 4, 'with': 5, 'this': 6, 'is': 7, 'flavors': 8, 'wine': 9, 'in': 10, 'to': 11, 'it': 12, 'fruit': 13, 'but': 14, 'on': 15, 'that': 16, \"it's\": 17, 'finish': 18, 'cherry': 19, 'aromas': 20} \n",
      "\n",
      "Variety encoder\n",
      " ['Albariño' 'Barbera' 'Bordeaux-style Red Blend'\n",
      " 'Bordeaux-style White Blend' 'Cabernet Franc' 'Cabernet Sauvignon'\n",
      " 'Carmenère' 'Champagne Blend' 'Chardonnay' 'Chenin Blanc'\n",
      " 'Corvina, Rondinella, Molinara' 'Gewürztraminer' 'Grenache'\n",
      " 'Grüner Veltliner' 'Malbec' 'Merlot' 'Nebbiolo' 'Petite Sirah'\n",
      " 'Pinot Grigio' 'Pinot Gris' 'Pinot Noir' 'Port' 'Portuguese Red'\n",
      " 'Portuguese White' 'Prosecco' 'Red Blend' 'Rhône-style Red Blend'\n",
      " 'Riesling' 'Rosé' 'Sangiovese' 'Sangiovese Grosso' 'Sauvignon Blanc'\n",
      " 'Shiraz' 'Sparkling Blend' 'Syrah' 'Tempranillo' 'Tempranillo Blend'\n",
      " 'Viognier' 'White Blend' 'Zinfandel'] \n",
      "\n"
     ]
    }
   ],
   "source": [
    "vocab_lookup = tokenizer.word_index\n",
    "first_20_words = {k: vocab_lookup[k] for k in list(vocab_lookup)[:20]}\n",
    "print(\"Sample vocab\\n\", first_20_words, \"\\n\")\n",
    "print(\"Variety encoder\\n\", encoder.classes_, \"\\n\")"
   ]
  },
  {
   "cell_type": "code",
   "execution_count": 31,
   "metadata": {},
   "outputs": [
    {
     "name": "stdout",
     "output_type": "stream",
     "text": [
      "[ 24 283 346 505   6 342  55  87 545   8   4 226  19  51   1 367 481   1\n",
      " 150 232  60   6 878 858   6   9 218  21   3  86   1 242 310  32  38  79\n",
      "   0   0   0   0   0   0   0   0   0   0   0   0   0   0   0   0   0   0\n",
      "   0   0   0   0   0   0   0   0   0   0   0   0   0   0   0   0   0   0\n",
      "   0   0   0   0   0   0   0   0   0   0   0   0   0   0   0   0   0   0\n",
      "   0   0   0   0   0   0   0   0   0   0   0   0   0   0   0   0   0   0\n",
      "   0   0   0   0   0   0   0   0   0   0   0   0   0   0   0   0   0   0\n",
      "   0   0   0   0   0   0   0   0   0   0   0   0   0   0   0   0   0   0\n",
      "   0   0   0   0   0   0   0   0   0   0   0   0   0   0   0   0   0   0\n",
      "   0   0   0   0   0   0   0   0]\n"
     ]
    }
   ],
   "source": [
    "embed_description = tokenizer.texts_to_sequences(test_descriptions)\n",
    "embed_description = keras.preprocessing.sequence.pad_sequences(\n",
    "    embed_description, maxlen=170, padding=\"post\")\n",
    "\n",
    "print(embed_description[0])"
   ]
  },
  {
   "cell_type": "code",
   "execution_count": 33,
   "metadata": {},
   "outputs": [
    {
     "name": "stdout",
     "output_type": "stream",
     "text": [
      "From 18-year-old vines, this supple well-balanced effort blends flavors of mocha, cherry, vanilla and breakfast tea. Superbly integrated and delicious even at this early stage, this wine seems destined for a long and savory cellar life. Drink now through 2028.\n",
      "Predicted:  13.313821 Actual:  48 \n",
      "\n",
      "The Quarts de Chaume, the four fingers of land that rise above the Layon Valley, are one of the pinnacles of sweet wines in the Loire. Showing botrytis and layers of dryness over the honey and peach jelly flavors, but also has great freshness. The aftertaste just lasts.\n",
      "Predicted:  20.277962 Actual:  152 \n",
      "\n",
      "Nicely oaked blackberry, licorice, vanilla and charred aromas are smooth and sultry. This is an outstanding wine from an excellent year. Forward barrel-spice and mocha flavors adorn core blackberry and raspberry fruit, while this runs long and tastes vaguely chocolaty on the velvety finish. Enjoy this top-notch Tempranillo through 2030.\n",
      "Predicted:  28.203745 Actual:  80 \n",
      "\n",
      "Bright, light oak shadings dress up this medium-bodied wine, complementing the red cherry and strawberry flavors. Its fresh, fruity and not very tannic—easy to drink and enjoy.\n",
      "Predicted:  54.05098 Actual:  10 \n",
      "\n",
      "This wine features black cherry, blackberry, blueberry with aromas of black licorice and earth. Ending with a creamy vanilla finish.\n",
      "Predicted:  42.84761 Actual:  23 \n",
      "\n"
     ]
    }
   ],
   "source": [
    "for i in range(len(test_descriptions)):\n",
    "    val = predictions[i]\n",
    "    print(test_descriptions[i])\n",
    "    print('Predicted: ', val[0], 'Actual: ', labels[i], '\\n')"
   ]
  },
  {
   "cell_type": "code",
   "execution_count": null,
   "metadata": {},
   "outputs": [],
   "source": []
  },
  {
   "cell_type": "code",
   "execution_count": null,
   "metadata": {},
   "outputs": [],
   "source": []
  },
  {
   "cell_type": "code",
   "execution_count": null,
   "metadata": {},
   "outputs": [],
   "source": []
  },
  {
   "cell_type": "code",
   "execution_count": null,
   "metadata": {},
   "outputs": [],
   "source": []
  }
 ],
 "metadata": {
  "kernelspec": {
   "display_name": "Python 3",
   "language": "python",
   "name": "python3"
  },
  "language_info": {
   "codemirror_mode": {
    "name": "ipython",
    "version": 3
   },
   "file_extension": ".py",
   "mimetype": "text/x-python",
   "name": "python",
   "nbconvert_exporter": "python",
   "pygments_lexer": "ipython3",
   "version": "3.7.6"
  }
 },
 "nbformat": 4,
 "nbformat_minor": 4
}
